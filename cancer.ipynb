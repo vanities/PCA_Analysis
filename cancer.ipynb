{
 "cells": [
  {
   "cell_type": "markdown",
   "metadata": {},
   "source": [
    "### Adam Mischke\n",
    "### 18 Feb 2018\n",
    "### CSCI 4850-5850 - Neural Networks\n",
    "### Homework 3 - Data Visualization with s Principal Component Analysis (PCA)\n",
    "### Due: Feb. 20 @ 11:00pm"
   ]
  },
  {
   "cell_type": "markdown",
   "metadata": {},
   "source": [
    "#### Imports:"
   ]
  },
  {
   "cell_type": "code",
   "execution_count": 76,
   "metadata": {},
   "outputs": [],
   "source": [
    "# file in\n",
    "import os\n",
    "\n",
    "# for reading data sets from the web\n",
    "import pandas as pd\n",
    "\n",
    "# for all the numpy greatness\n",
    "import numpy as np\n",
    "\n",
    "# to make plots n stuff\n",
    "import matplotlib.pyplot as plt\n",
    "%matplotlib inline\n",
    "\n",
    "# LaTex and sympy are awesome!\n",
    "from sympy import *\n",
    "init_printing(use_latex=True)\n",
    "from IPython.display import display\n",
    "\n",
    "# PCA library from sklearn\n",
    "from sklearn.decomposition import PCA\n",
    "\n",
    "# keras\n",
    "import keras"
   ]
  },
  {
   "cell_type": "code",
   "execution_count": 115,
   "metadata": {},
   "outputs": [],
   "source": [
    "# mean center of a vector\n",
    "def mean_center(x):\n",
    "    return x - np.mean(x)\n",
    "\n",
    "# pca helper class\n",
    "class PCAhelper:\n",
    "    \n",
    "    # initialize: using a filename\n",
    "    def __init__(self, filename):\n",
    "        \n",
    "        # read in the data into a np matrix\n",
    "        self.data = np.array(pd.read_table(filename,\n",
    "                             delim_whitespace=True,\n",
    "                             header=None))\n",
    "        \n",
    "        # set the number of columns from the shape\n",
    "        self.columns = self.data.shape[1] - 1\n",
    "        \n",
    "        # set the feature matrix\n",
    "        self.X = self.data[:,0:self.columns]\n",
    "        \n",
    "        # set the class vector\n",
    "        self.Y = self.data[:,self.columns]\n",
    "        \n",
    "    \n",
    "    # displays the feature and class shapes\n",
    "    def show_shape(self):\n",
    "        display(self.X.shape)\n",
    "        display(self.Y.shape)\n",
    "        \n",
    "    # apply the mean centered function across the features matrix\n",
    "    def set_xcenter(self):\n",
    "        self.center = np.apply_along_axis(mean_center, 0, self.X)\n",
    "        \n",
    "    # calculates and assigns the SVD\n",
    "    def SVD(self):\n",
    "        # singular value decompostion (left-singular)\n",
    "        # U = left singular vectors, (unit length)\n",
    "        # S = singular-values\n",
    "        self.U,self.S,self.V = np.linalg.svd(self.center, full_matrices=True)\n",
    "    \n",
    "    # plots the SVD in matplotlib\n",
    "    def plot_SVD(self):\n",
    "        # percentage variance accounted for\n",
    "        plt.plot( (100.0 * self.S) / np.sum(self.S) )\n",
    "        plt.ylabel('% variance')\n",
    "        plt.xlabel('singular value')\n",
    "        plt.show()\n",
    "        \n",
    "    # display the variance of the first two principal components\n",
    "    def print_variance(self, x=2):\n",
    "        # variance accounted for in the first two principal components\n",
    "        display(100.0 * ( (self.S[0] + self.S[1]) / np.sum(self.S) ))\n",
    "        \n",
    "        # variance\n",
    "        display(100.0 * ( (np.sum(self.S[0:x]))/ np.sum(self.S)))\n",
    "        # reduction\n",
    "        display(100 * x/ len(self.S))\n",
    "    \n",
    "    # sets the Principle components \n",
    "    def set_PC(self):\n",
    "        # create and fill a 2-d matrix with zeros\n",
    "        self.D = np.zeros([self.X.shape[0], self.X.shape[1]])\n",
    "\n",
    "        # fill in the values from S into D as a diagonal\n",
    "        np.fill_diagonal(self.D,self.S)\n",
    "\n",
    "        # matrix multiply the new D with our unit left singular vectors\n",
    "        x_rotated = np.dot(self.U,self.D)\n",
    "\n",
    "        # collect the two principal components\n",
    "        self.PCs = x_rotated[:,0:2]\n",
    "    \n",
    "    # displays the shape of the PC matrix\n",
    "    def PC_shape(self):\n",
    "        display(self.PCs.shape)\n",
    "     \n",
    "    # plots the principal components\n",
    "    def plot_PC(self, colors):\n",
    "        # scatter plot our data!\n",
    "        plt.scatter(self.PCs[:,0], self.PCs[:,1],\n",
    "                   color = [colors[i] for i in self.Y.astype(int)])\n",
    "\n",
    "        plt.xlabel('PC1')\n",
    "        plt.ylabel('PC2')\n",
    "        plt.show()"
   ]
  },
  {
   "cell_type": "markdown",
   "metadata": {},
   "source": [
    "#### Wisconson Data Breast Cancer set:"
   ]
  },
  {
   "cell_type": "code",
   "execution_count": 116,
   "metadata": {},
   "outputs": [
    {
     "data": {
      "image/png": "[encoded data removed]",
      "text/latex": [
       "$$\\left ( 568, \\quad 30\\right )$$"
      ],
      "text/plain": [
       "(568, 30)"
      ]
     },
     "metadata": {},
     "output_type": "display_data"
    },
    {
     "data": {
      "image/png": "[encoded data removed]",
      "text/latex": [
       "$$\\left ( 568\\right )$$"
      ],
      "text/plain": [
       "(568,)"
      ]
     },
     "metadata": {},
     "output_type": "display_data"
    },
    {
     "data": {
      "image/png": "[encoded data removed]",
      "text/latex": [
       "$$\\left[\\begin{matrix}0.0 & 1.0\\end{matrix}\\right]$$"
      ],
      "text/plain": [
       "[0.0  1.0]"
      ]
     },
     "metadata": {},
     "output_type": "display_data"
    }
   ],
   "source": [
    "# grab the WDBC data set\n",
    "WDBC_local = os.path.join('data', 'WDBC.txt')\n",
    "\n",
    "# instantiate a PCA helper for the breast cancer data\n",
    "WDBC = PCAhelper(filename = WDBC_local)\n",
    "\n",
    "# display the shape\n",
    "WDBC.show_shape()\n",
    "\n",
    "# display how many unique classifications/class labels we have\n",
    "display(Matrix(np.unique(WDBC.Y)).T)"
   ]
  },
  {
   "cell_type": "code",
   "execution_count": 117,
   "metadata": {},
   "outputs": [
    {
     "data": {
      "image/png": "[encoded data removed]",
      "text/plain": [
       "<matplotlib.figure.Figure at 0x7f621efdc780>"
      ]
     },
     "metadata": {},
     "output_type": "display_data"
    },
    {
     "data": {
      "image/png": "[encoded data removed]",
      "text/latex": [
       "$$12.4907785622$$"
      ],
      "text/plain": [
       "12.4907785622"
      ]
     },
     "metadata": {},
     "output_type": "display_data"
    }
   ],
   "source": [
    "WDBC.set_xcenter()   # sets the x center\n",
    "WDBC.SVD()           # sets the SVD\n",
    "WDBC.plot_SVD()      # plots the SVD"
   ]
  },
  {
   "cell_type": "markdown",
   "metadata": {},
   "source": [
    "#### WDBC, Wisconsin Data Breast Cancer set\n",
    "#### Singular Value <b>[0,30]</b> by % Variance <b>[0,25]</b> graph:\n",
    "This plot shows a sharp decline, which means the first 5 or so singular combinations have a good amount of variance."
   ]
  },
  {
   "cell_type": "code",
   "execution_count": 113,
   "metadata": {},
   "outputs": [
    {
     "data": {
      "image/png": "[encoded data removed]",
      "text/latex": [
       "$$36.0458236348$$"
      ],
      "text/plain": [
       "36.0458236348"
      ]
     },
     "metadata": {},
     "output_type": "display_data"
    },
    {
     "data": {
      "image/png": "[encoded data removed]",
      "text/latex": [
       "$$36.0458236348$$"
      ],
      "text/plain": [
       "36.0458236348"
      ]
     },
     "metadata": {},
     "output_type": "display_data"
    },
    {
     "data": {
      "image/png": "[encoded data removed]",
      "text/latex": [
       "$$6.666666666666667$$"
      ],
      "text/plain": [
       "6.666666666666667"
      ]
     },
     "metadata": {},
     "output_type": "display_data"
    }
   ],
   "source": [
    "WDBC.print_variance()    # prints the % variance"
   ]
  },
  {
   "cell_type": "code",
   "execution_count": 99,
   "metadata": {},
   "outputs": [
    {
     "data": {
      "image/png": "[encoded data removed]",
      "text/latex": [
       "$$\\left ( 568, \\quad 2\\right )$$"
      ],
      "text/plain": [
       "(568, 2)"
      ]
     },
     "metadata": {},
     "output_type": "display_data"
    }
   ],
   "source": [
    "WDBC.set_PC()      # sets the PCs\n",
    "WDBC.PC_shape()    # shows the shape of the PCs"
   ]
  },
  {
   "cell_type": "code",
   "execution_count": 100,
   "metadata": {},
   "outputs": [
    {
     "data": {
      "image/png": "[encoded data removed]",
      "text/plain": [
       "<matplotlib.figure.Figure at 0x7f62d71bec50>"
      ]
     },
     "metadata": {},
     "output_type": "display_data"
    }
   ],
   "source": [
    "colors = ['red', 'blue']       # two classes\n",
    "WDBC.plot_PC(colors = colors)  # plot the pca with the colors above"
   ]
  },
  {
   "cell_type": "markdown",
   "metadata": {},
   "source": [
    "#### WDBC, Wisconsin Data Breast Cancer set\n",
    "#### Principle Component Plot:\n",
    "This graph clearly shows the differences between:<br>\n",
    "[0] = <font color=blue>blue</font><br>\n",
    "[1] = <span style=\"color:red\">red</span><br>\n",
    "<br>\n",
    "There is a discrete line that could seperate the two classes, with some exceptions of the blue and red mixing some in the middle.\n",
    "A single layer network could probably handle this problem."
   ]
  },
  {
   "cell_type": "markdown",
   "metadata": {},
   "source": [
    "#### Cancer data set:"
   ]
  },
  {
   "cell_type": "code",
   "execution_count": 101,
   "metadata": {},
   "outputs": [
    {
     "data": {
      "image/png": "[encoded data removed]",
      "text/latex": [
       "$$\\left ( 105, \\quad 9\\right )$$"
      ],
      "text/plain": [
       "(105, 9)"
      ]
     },
     "metadata": {},
     "output_type": "display_data"
    },
    {
     "data": {
      "image/png": "[encoded data removed]",
      "text/latex": [
       "$$\\left ( 105\\right )$$"
      ],
      "text/plain": [
       "(105,)"
      ]
     },
     "metadata": {},
     "output_type": "display_data"
    },
    {
     "data": {
      "image/png": "[encoded data removed]",
      "text/latex": [
       "$$\\left[\\begin{matrix}0.0 & 1.0 & 2.0 & 3.0 & 4.0 & 5.0\\end{matrix}\\right]$$"
      ],
      "text/plain": [
       "[0.0  1.0  2.0  3.0  4.0  5.0]"
      ]
     },
     "metadata": {},
     "output_type": "display_data"
    }
   ],
   "source": [
    "# grab the can er data set\n",
    "cancer_local = os.path.join('data', 'cancer-data.txt')\n",
    "\n",
    "# instantiate a PCA helper for the breast cancer data\n",
    "cancer = PCAhelper(filename = cancer_local)\n",
    "\n",
    "# display the shape\n",
    "cancer.show_shape()\n",
    "\n",
    "# display how many unique classifications/class labels we have\n",
    "display(Matrix(np.unique(cancer.Y)).T)"
   ]
  },
  {
   "cell_type": "code",
   "execution_count": 102,
   "metadata": {},
   "outputs": [
    {
     "data": {
      "image/png": "[encoded data removed]",
      "text/plain": [
       "<matplotlib.figure.Figure at 0x7f62d71bedd8>"
      ]
     },
     "metadata": {},
     "output_type": "display_data"
    }
   ],
   "source": [
    "cancer.set_xcenter()   # sets the x center\n",
    "cancer.SVD()           # sets the SVD\n",
    "cancer.plot_SVD()      # plots the SVD"
   ]
  },
  {
   "cell_type": "markdown",
   "metadata": {},
   "source": [
    "#### Cancer Set\n",
    "#### Singular Value <b>[0,8]</b> by % Variance <b>[0,40]</b> graph:\n",
    "This plot shows a smoother function, but that's probably because we used less dimensions of features. Still, the first singular value gives us around 40% of the variance and the second around 25%ish.\n",
    "\n",
    "It also has more variance in the first 2 entries of the set rather than the WDBC set."
   ]
  },
  {
   "cell_type": "code",
   "execution_count": 114,
   "metadata": {},
   "outputs": [
    {
     "data": {
      "image/png": "[encoded data removed]",
      "text/latex": [
       "$$62.0098451541$$"
      ],
      "text/plain": [
       "62.0098451541"
      ]
     },
     "metadata": {},
     "output_type": "display_data"
    },
    {
     "data": {
      "image/png": "[encoded data removed]",
      "text/latex": [
       "$$62.0098451541$$"
      ],
      "text/plain": [
       "62.0098451541"
      ]
     },
     "metadata": {},
     "output_type": "display_data"
    },
    {
     "data": {
      "image/png": "[encoded data removed]",
      "text/latex": [
       "$$22.22222222222222$$"
      ],
      "text/plain": [
       "22.22222222222222"
      ]
     },
     "metadata": {},
     "output_type": "display_data"
    }
   ],
   "source": [
    "cancer.print_variance()    # prints the % variance"
   ]
  },
  {
   "cell_type": "code",
   "execution_count": 108,
   "metadata": {},
   "outputs": [
    {
     "data": {
      "image/png": "[encoded data removed]",
      "text/latex": [
       "$$\\left ( 105, \\quad 2\\right )$$"
      ],
      "text/plain": [
       "(105, 2)"
      ]
     },
     "metadata": {},
     "output_type": "display_data"
    }
   ],
   "source": [
    "cancer.set_PC()      # sets the PCs\n",
    "cancer.PC_shape()    # shows the shape of the PCs"
   ]
  },
  {
   "cell_type": "code",
   "execution_count": 109,
   "metadata": {},
   "outputs": [
    {
     "data": {
      "image/png": "[encoded data removed]",
      "text/plain": [
       "<matplotlib.figure.Figure at 0x7f62d722e5c0>"
      ]
     },
     "metadata": {},
     "output_type": "display_data"
    }
   ],
   "source": [
    "# 6 classes\n",
    "colors = ['red', 'orange', 'yellow', 'green', 'blue', 'violet']\n",
    "cancer.plot_PC(colors = colors)      # plots the cancer PC data"
   ]
  },
  {
   "cell_type": "markdown",
   "metadata": {},
   "source": [
    "#### Cancer Set \n",
    "#### Principle Component Plot:\n",
    "This graph clearly shows the differences between:<br>\n",
    "[0] = <span style=\"color:red\">red</span><br>\n",
    "[1] = <font color=orange>orange</font><br>\n",
    "[2] = <font color=yellow>yellow</font><br>\n",
    "[3] = <font color=green>green</font><br>\n",
    "[4] = <font color=blue>blue</font><br>\n",
    "[5] = <font color=indigo>indigo</font><br>\n",
    "<br>\n",
    "There are clear distinctions between most classes, except for maybe the orange, green, and yellow.\n",
    "\n",
    "The pink, blue, and red and pretty distinct.\n",
    "\n",
    "A multilayer network would be required for this type of problem as there are not clear defined linear separations between the classes."
   ]
  },
  {
   "cell_type": "code",
   "execution_count": null,
   "metadata": {},
   "outputs": [],
   "source": []
  }
 ],
 "metadata": {
  "kernelspec": {
   "display_name": "Python 3",
   "language": "python",
   "name": "python3"
  },
  "language_info": {
   "codemirror_mode": {
    "name": "ipython",
    "version": 3
   },
   "file_extension": ".py",
   "mimetype": "text/x-python",
   "name": "python",
   "nbconvert_exporter": "python",
   "pygments_lexer": "ipython3",
   "version": "3.5.3"
  }
 },
 "nbformat": 4,
 "nbformat_minor": 2
}
